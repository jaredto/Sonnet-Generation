{
 "cells": [
  {
   "cell_type": "code",
   "execution_count": null,
   "id": "42a9c3ad",
   "metadata": {},
   "outputs": [],
   "source": [
    "import pandas as pd\n",
    "from sklearn.model_selection import train_test_split\n",
    "from sklearn.ensemble import RandomForestClassifier\n",
    "from sklearn.metrics import accuracy_score, classification_report\n",
    "import matplotlib.pyplot as plt\n",
    "\n",
    "# Load and preprocess the dataset\n",
    "data = pd.read_csv('slider_data.csv')  # Replace with your dataset file\n",
    "data = data.dropna()  # Remove rows with missing values\n",
    "\n",
    "# Combine \"swinging_strike\" and \"swinging_strike_blocked\" into a single target variable\n",
    "data['swing_and_miss'] = (data['outcome'] == 'swinging_strike') | (data['outcome'] == 'swinging_strike_blocked')\n",
    "\n",
    "# Define features and target variable\n",
    "features = data.drop(['swing_and_miss'], axis=1)  # Adjust columns accordingly\n",
    "target = data['swing_and_miss']\n",
    "\n",
    "# Split data into training and testing sets\n",
    "X_train, X_test, y_train, y_test = train_test_split(features, target, test_size=0.2, random_state=42)\n",
    "\n",
    "# Train a Random Forest Classifier\n",
    "model = RandomForestClassifier(random_state=42)\n",
    "model.fit(X_train, y_train)\n",
    "\n",
    "# Make predictions\n",
    "y_pred = model.predict(X_test)\n",
    "\n",
    "# Evaluate the model\n",
    "accuracy = accuracy_score(y_test, y_pred)\n",
    "classification_rep = classification_report(y_test, y_pred)\n",
    "\n",
    "print(\"Accuracy:\", accuracy)\n",
    "print(\"Classification Report:\\n\", classification_rep)\n",
    "\n",
    "# Feature Importance\n",
    "feature_importances = model.feature_importances_\n",
    "sorted_indices = feature_importances.argsort()[::-1]\n",
    "\n",
    "# Top 3 important features\n",
    "top_features = features.columns[sorted_indices][:3]\n",
    "print(\"Top 3 important features:\", top_features)\n",
    "\n",
    "# Rank players based on predicted swing and miss rates\n",
    "data['predicted_swing_and_miss_prob'] = model.predict_proba(features)[:, 1]\n",
    "top_players = data.sort_values(by='predicted_swing_and_miss_prob', ascending=False).head(5)\n",
    "print(\"Top 5 players:\\n\", top_players[['player_name', 'predicted_swing_and_miss_prob']])\n"
   ]
  }
 ],
 "metadata": {
  "kernelspec": {
   "display_name": "Python 3 (ipykernel)",
   "language": "python",
   "name": "python3"
  },
  "language_info": {
   "codemirror_mode": {
    "name": "ipython",
    "version": 3
   },
   "file_extension": ".py",
   "mimetype": "text/x-python",
   "name": "python",
   "nbconvert_exporter": "python",
   "pygments_lexer": "ipython3",
   "version": "3.10.9"
  }
 },
 "nbformat": 4,
 "nbformat_minor": 5
}
